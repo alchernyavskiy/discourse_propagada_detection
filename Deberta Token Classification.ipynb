{
 "cells": [
  {
   "cell_type": "markdown",
   "metadata": {},
   "source": [
    "## 1. Construct datasets in cycle (+for ablation study)"
   ]
  },
  {
   "cell_type": "code",
   "execution_count": 1,
   "metadata": {},
   "outputs": [
    {
     "name": "stderr",
     "output_type": "stream",
     "text": [
      "/home/alchernyavskiy/anaconda3/envs/py37deberta/lib/python3.7/site-packages/tqdm/auto.py:21: TqdmWarning: IProgress not found. Please update jupyter and ipywidgets. See https://ipywidgets.readthedocs.io/en/stable/user_install.html\n",
      "  from .autonotebook import tqdm as notebook_tqdm\n"
     ]
    }
   ],
   "source": [
    "from ner_deberta_multi.dataset_construction import construct_semeval_dataset"
   ]
  },
  {
   "cell_type": "code",
   "execution_count": null,
   "metadata": {},
   "outputs": [],
   "source": [
    "disco_depth = 2\n",
    "\n",
    "# can be modified\n",
    "options = [\n",
    "    [True, True, True, True],\n",
    "   [True, True, False, True],\n",
    "   [True, False, False, True],\n",
    "   [False, False, False, True]\n",
    "]\n",
    "\n",
    "\n",
    "for part in ['train', 'dev', 'test']:\n",
    "    for (use_nucsat, use_rels, use_paths, use_start_end) in options:\n",
    "        construct_semeval_dataset(\n",
    "            part = part,\n",
    "            disco_depth=disco_depth,\n",
    "            use_rels=use_rels,\n",
    "            use_nucsat=use_nucsat,\n",
    "            use_start_end=use_start_end,\n",
    "            use_paths=use_paths)"
   ]
  },
  {
   "cell_type": "code",
   "execution_count": null,
   "metadata": {},
   "outputs": [],
   "source": []
  },
  {
   "cell_type": "code",
   "execution_count": null,
   "metadata": {},
   "outputs": [],
   "source": [
    "#add no-feats version to train the base model\n",
    "import json\n",
    "\n",
    "for part in ['train', 'dev', 'test']:\n",
    "    fn = f'datasets/deberta_propaganda_full/{part}_binary_custom_feats=2_lvl2--use_rels=False--use_nucsat=False--use_paths=False--use_start_end=True_multi.json'\n",
    "\n",
    "    with open(fn, 'r') as outfile:\n",
    "        data = json.load(outfile)\n",
    "\n",
    "    for el in data:\n",
    "        del el['feature']\n",
    "\n",
    "    with open(fn.replace('.json', '_nofeat.json'), 'w') as outfile:\n",
    "        json.dump(data, outfile)"
   ]
  },
  {
   "cell_type": "code",
   "execution_count": null,
   "metadata": {},
   "outputs": [],
   "source": []
  },
  {
   "cell_type": "markdown",
   "metadata": {},
   "source": [
    "## 2. Save pos weights"
   ]
  },
  {
   "cell_type": "code",
   "execution_count": 1,
   "metadata": {},
   "outputs": [],
   "source": [
    "import json\n",
    "import pickle"
   ]
  },
  {
   "cell_type": "code",
   "execution_count": 2,
   "metadata": {},
   "outputs": [],
   "source": [
    "with open(f'datasets/deberta_propaganda/train_binary_customfeats_v1_lvl3_multi.json', 'r') as outfile:\n",
    "    data_train = json.load(outfile)"
   ]
  },
  {
   "cell_type": "code",
   "execution_count": 3,
   "metadata": {},
   "outputs": [],
   "source": [
    "weights =  []\n",
    "for i in range(len(data_train[0]['label'][0])):\n",
    "    label_vals = []\n",
    "    for item in data_train:\n",
    "        label_vals.extend([el[i] for el in item['label']])\n",
    "    num_pos = max(sum(label_vals), 1)\n",
    "    num_neg = len(label_vals) - num_pos\n",
    "    weights.append(min(70, num_neg / num_pos))"
   ]
  },
  {
   "cell_type": "code",
   "execution_count": 4,
   "metadata": {},
   "outputs": [],
   "source": [
    "with open('ner_deberta_multi/pos_weights.pkl', 'wb') as f:\n",
    "    pickle.dump(weights, f)"
   ]
  },
  {
   "cell_type": "code",
   "execution_count": null,
   "metadata": {},
   "outputs": [],
   "source": []
  },
  {
   "cell_type": "markdown",
   "metadata": {},
   "source": [
    "## 3. Train Model"
   ]
  },
  {
   "cell_type": "code",
   "execution_count": 5,
   "metadata": {},
   "outputs": [
    {
     "name": "stdout",
     "output_type": "stream",
     "text": [
      "'dev_binary_custom_feats=2_lvl2--use_rels=False--use_nucsat=False--use_paths=False--use_start_end=True_multi.json'\r\n",
      "'dev_binary_custom_feats=2_lvl2--use_rels=False--use_nucsat=False--use_paths=False--use_start_end=True_multi_nofeat.json'\r\n",
      "'dev_binary_custom_feats=42_lvl2--use_rels=True--use_nucsat=True--use_paths=False--use_start_end=True_multi.json'\r\n",
      "'dev_binary_custom_feats=4_lvl2--use_rels=False--use_nucsat=True--use_paths=False--use_start_end=True_multi.json'\r\n",
      "'dev_binary_custom_feats=50_lvl2--use_rels=True--use_nucsat=True--use_paths=True--use_start_end=True_multi.json'\r\n",
      "'test_binary_custom_feats=2_lvl2--use_rels=False--use_nucsat=False--use_paths=False--use_start_end=True_multi.json'\r\n",
      "'test_binary_custom_feats=2_lvl2--use_rels=False--use_nucsat=False--use_paths=False--use_start_end=True_multi_nofeat.json'\r\n",
      "'test_binary_custom_feats=42_lvl2--use_rels=True--use_nucsat=True--use_paths=False--use_start_end=True_multi.json'\r\n",
      "'test_binary_custom_feats=4_lvl2--use_rels=False--use_nucsat=True--use_paths=False--use_start_end=True_multi.json'\r\n",
      "'test_binary_custom_feats=50_lvl2--use_rels=True--use_nucsat=True--use_paths=True--use_start_end=True_multi.json'\r\n",
      "'train_binary_custom_feats=2_lvl2--use_rels=False--use_nucsat=False--use_paths=False--use_start_end=True_multi.json'\r\n",
      "'train_binary_custom_feats=2_lvl2--use_rels=False--use_nucsat=False--use_paths=False--use_start_end=True_multi_nofeat.json'\r\n",
      "'train_binary_custom_feats=42_lvl2--use_rels=True--use_nucsat=True--use_paths=False--use_start_end=True_multi.json'\r\n",
      "'train_binary_custom_feats=4_lvl2--use_rels=False--use_nucsat=True--use_paths=False--use_start_end=True_multi.json'\r\n",
      "'train_binary_custom_feats=50_lvl2--use_rels=True--use_nucsat=True--use_paths=True--use_start_end=True_multi.json'\r\n"
     ]
    }
   ],
   "source": [
    "!ls datasets/deberta_propaganda_full"
   ]
  },
  {
   "cell_type": "code",
   "execution_count": null,
   "metadata": {},
   "outputs": [],
   "source": []
  },
  {
   "cell_type": "code",
   "execution_count": null,
   "metadata": {},
   "outputs": [],
   "source": [
    "#RUN BASE\n",
    "#--label_all_tokens    checkpointing_steps 'epoch' 10000; 2 -- extra_feature_size=42 2e-5\n",
    "\n",
    "!CUDA_VISIBLE_DEVICES=0 python ner_deberta_multi/run_ner_no_trainer_custom.py \\\n",
    "  --model_name_or_path \"microsoft/deberta-v3-base\" \\\n",
    "  --train_file 'datasets/deberta_propaganda_full/train_binary_custom_feats=2_lvl2--use_rels=False--use_nucsat=False--use_paths=False--use_start_end=True_multi_nofeat.json' \\\n",
    "  --validation_file 'datasets/deberta_propaganda_full/dev_binary_custom_feats=2_lvl2--use_rels=False--use_nucsat=False--use_paths=False--use_start_end=True_multi_nofeat.json' \\\n",
    "  --text_column_name 'token' \\\n",
    "  --label_column_name 'label' \\\n",
    "  --max_length 256 \\\n",
    "  --pad_to_max_length \\\n",
    "  --per_device_train_batch_size 8 \\\n",
    "  --per_device_eval_batch_size 8 \\\n",
    "  --learning_rate 3e-5 \\\n",
    "  --num_train_epochs 45 \\\n",
    "  --checkpointing_steps 10000 \\\n",
    "  --output_dir \"checkpoint/deberta_ner_binary_noo_test_lr3e-5-8-45ep_w100_1lin__base\" \\\n",
    "  --with_tracking"
   ]
  },
  {
   "cell_type": "code",
   "execution_count": null,
   "metadata": {},
   "outputs": [],
   "source": []
  },
  {
   "cell_type": "markdown",
   "metadata": {},
   "source": [
    "### Run custom model training in loop"
   ]
  },
  {
   "cell_type": "code",
   "execution_count": 3,
   "metadata": {},
   "outputs": [],
   "source": [
    "from ner_deberta_multi.train_loop import run_train"
   ]
  },
  {
   "cell_type": "code",
   "execution_count": 4,
   "metadata": {},
   "outputs": [],
   "source": [
    "options = [\n",
    "    [True, True, True, True],\n",
    "    [True, True, False, True],\n",
    "    [True, False, False, True],\n",
    "    [False, False, False, True]\n",
    "]\n",
    "\n",
    "\n",
    "for (use_nucsat, use_rels, use_paths, use_start_end) in options:\n",
    "    run_train(level=2,\n",
    "              lr=3e-5,\n",
    "              bs=8,\n",
    "              n_epochs=45,\n",
    "              use_rels=use_rels,\n",
    "              use_nucsat=use_nucsat,\n",
    "              use_paths=use_paths,\n",
    "              use_start_end=use_start_end,\n",
    "              #save_eval_metric='macro_f1',\n",
    "              device='cuda:0')"
   ]
  },
  {
   "cell_type": "code",
   "execution_count": null,
   "metadata": {},
   "outputs": [],
   "source": []
  },
  {
   "cell_type": "code",
   "execution_count": null,
   "metadata": {},
   "outputs": [],
   "source": []
  },
  {
   "cell_type": "markdown",
   "metadata": {},
   "source": [
    "## 4. Run inference"
   ]
  },
  {
   "cell_type": "code",
   "execution_count": 15,
   "metadata": {},
   "outputs": [],
   "source": [
    "import os\n",
    "import sys\n",
    "sys.path.insert(0, 'ner_deberta_multi/')"
   ]
  },
  {
   "cell_type": "code",
   "execution_count": 16,
   "metadata": {},
   "outputs": [
    {
     "name": "stderr",
     "output_type": "stream",
     "text": [
      "/home/alexander.chernyavsk/.conda/envs/py37deberta/lib/python3.7/site-packages/tqdm/auto.py:21: TqdmWarning: IProgress not found. Please update jupyter and ipywidgets. See https://ipywidgets.readthedocs.io/en/stable/user_install.html\n",
      "  from .autonotebook import tqdm as notebook_tqdm\n"
     ]
    }
   ],
   "source": [
    "from inference_with_eval import run_inference"
   ]
  },
  {
   "cell_type": "code",
   "execution_count": 3,
   "metadata": {},
   "outputs": [],
   "source": [
    "model_name_or_path =  \"checkpoint/deberta_ner_v1-3e-5-4_binary_multi_45ep_w100_base_dev_cp/best_macro_f1/\"\n",
    "dev_json = 'datasets/deberta_propaganda_full/test_binary_custom_feats=2_lvl2--use_rels=False--use_nucsat=False--use_paths=False--use_start_end=True_multi_nofeat.json'"
   ]
  },
  {
   "cell_type": "code",
   "execution_count": 26,
   "metadata": {},
   "outputs": [],
   "source": [
    "model_name_or_path = 'checkpoint/deberta_ner_binary_lr3e-05-16-45ep_w100_1lin__lvl2--use_rels=True--use_nucsat=True--use_paths=True--use_start_end=True_multi'\n",
    "\n",
    "for fn in os.listdir('datasets/deberta_propaganda_full/'):\n",
    "    if fn.endswith(model_name_or_path.split('--', 1)[1] + '.json') and fn.startswith('test'):\n",
    "        dev_json = 'datasets/deberta_propaganda_full/' + fn"
   ]
  },
  {
   "cell_type": "code",
   "execution_count": 27,
   "metadata": {},
   "outputs": [
    {
     "name": "stderr",
     "output_type": "stream",
     "text": [
      "Found cached dataset json (/home/alexander.chernyavsk/.cache/huggingface/datasets/json/default-e8548153b097c645/0.0.0/fe5dd6ea2639a6df622901539cb550cf8797e5a6b2dd7af1cf934bed8e233e6e)\n",
      "100%|████████████████████████████████████████████| 1/1 [00:00<00:00, 206.00it/s]\n",
      "Loading cached processed dataset at /home/alexander.chernyavsk/.cache/huggingface/datasets/json/default-e8548153b097c645/0.0.0/fe5dd6ea2639a6df622901539cb550cf8797e5a6b2dd7af1cf934bed8e233e6e/cache-9eb3399e4380a096.arrow\n",
      "100%|█████████████████████████████████████████| 211/211 [04:23<00:00,  1.25s/it]\n"
     ]
    }
   ],
   "source": [
    "metrics, preds_df = run_inference(model_name_or_path, dev_json, thresh=0.5, compute_global=True)"
   ]
  },
  {
   "cell_type": "code",
   "execution_count": null,
   "metadata": {},
   "outputs": [],
   "source": []
  },
  {
   "cell_type": "code",
   "execution_count": null,
   "metadata": {},
   "outputs": [],
   "source": []
  },
  {
   "cell_type": "code",
   "execution_count": 6,
   "metadata": {},
   "outputs": [
    {
     "name": "stdout",
     "output_type": "stream",
     "text": [
      "Downloading and preparing dataset json/default to /home/alexander.chernyavsk/.cache/huggingface/datasets/json/default-e8548153b097c645/0.0.0/fe5dd6ea2639a6df622901539cb550cf8797e5a6b2dd7af1cf934bed8e233e6e...\n"
     ]
    },
    {
     "name": "stderr",
     "output_type": "stream",
     "text": [
      "Downloading data files: 100%|████████████████████| 1/1 [00:00<00:00, 851.81it/s]\n",
      "Extracting data files: 100%|█████████████████████| 1/1 [00:00<00:00, 246.87it/s]\n",
      "                                                             \r"
     ]
    },
    {
     "name": "stdout",
     "output_type": "stream",
     "text": [
      "Dataset json downloaded and prepared to /home/alexander.chernyavsk/.cache/huggingface/datasets/json/default-e8548153b097c645/0.0.0/fe5dd6ea2639a6df622901539cb550cf8797e5a6b2dd7af1cf934bed8e233e6e. Subsequent calls will reuse this data.\n"
     ]
    },
    {
     "name": "stderr",
     "output_type": "stream",
     "text": [
      "100%|████████████████████████████████████████████| 1/1 [00:00<00:00, 106.38it/s]\n",
      "/home/alexander.chernyavsk/.conda/envs/py37deberta/lib/python3.7/site-packages/sklearn/metrics/_classification.py:1318: UndefinedMetricWarning: Precision is ill-defined and being set to 0.0 due to no predicted samples. Use `zero_division` parameter to control this behavior.\n",
      "  _warn_prf(average, modifier, msg_start, len(result))\n",
      "/home/alexander.chernyavsk/.conda/envs/py37deberta/lib/python3.7/site-packages/sklearn/metrics/_classification.py:1318: UndefinedMetricWarning: Precision is ill-defined and being set to 0.0 due to no predicted samples. Use `zero_division` parameter to control this behavior.\n",
      "  _warn_prf(average, modifier, msg_start, len(result))\n",
      "100%|█████████████████████████████████████████| 211/211 [04:32<00:00,  1.29s/it]\n"
     ]
    }
   ],
   "source": [
    "model_name_or_path =  \"checkpoint/deberta_ner_binary_lr3e-05-8-40ep_w100_1lin__lvl2--use_rels=True--use_nucsat=True--use_paths=True--use_start_end=True_multi/\"\n",
    "dev_json = 'datasets/deberta_propaganda_full/test_binary_custom_feats=50_lvl2--use_rels=True--use_nucsat=True--use_paths=True--use_start_end=True_multi.json'\n",
    "metrics, preds_df = run_inference(model_name_or_path, dev_json, thresh=0.5)"
   ]
  },
  {
   "cell_type": "code",
   "execution_count": null,
   "metadata": {},
   "outputs": [],
   "source": []
  },
  {
   "cell_type": "code",
   "execution_count": null,
   "metadata": {},
   "outputs": [],
   "source": []
  }
 ],
 "metadata": {
  "kernelspec": {
   "display_name": "py37deberta",
   "language": "python",
   "name": "py37deberta"
  },
  "language_info": {
   "codemirror_mode": {
    "name": "ipython",
    "version": 3
   },
   "file_extension": ".py",
   "mimetype": "text/x-python",
   "name": "python",
   "nbconvert_exporter": "python",
   "pygments_lexer": "ipython3",
   "version": "3.7.13"
  }
 },
 "nbformat": 4,
 "nbformat_minor": 5
}
