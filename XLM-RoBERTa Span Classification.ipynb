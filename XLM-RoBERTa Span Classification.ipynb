{
 "cells": [
  {
   "cell_type": "markdown",
   "metadata": {},
   "source": [
    "## 1. Construct datasets in cycle (+for ablation study)"
   ]
  },
  {
   "cell_type": "raw",
   "metadata": {},
   "source": [
    "#presave labels\n",
    "import pickle\n",
    "with open('glue_xlmroberta/labels_list.pkl', 'wb') as f:\n",
    "    pickle.dump(['Appeal_to_Authority',\n",
    " 'Appeal_to_Fear-Prejudice',\n",
    " 'Appeal_to_Hypocrisy',\n",
    " 'Appeal_to_Popularity',\n",
    " 'Appeal_to_Time',\n",
    " 'Appeal_to_Values',\n",
    " 'Causal_Oversimplification',\n",
    " 'Consequential_Oversimplification',\n",
    " 'Conversation_Killer',\n",
    " 'Doubt',\n",
    " 'Exaggeration-Minimisation',\n",
    " 'False_Dilemma-No_Choice',\n",
    " 'Flag_Waving',\n",
    " 'Guilt_by_Association',\n",
    " 'Loaded_Language',\n",
    " 'Name_Calling-Labeling',\n",
    " 'Obfuscation-Vagueness-Confusion',\n",
    " 'Questioning_the_Reputation',\n",
    " 'Red_Herring',\n",
    " 'Repetition',\n",
    " 'Slogans',\n",
    " 'Straw_Man',\n",
    " 'Whataboutism'], f)"
   ]
  },
  {
   "cell_type": "code",
   "execution_count": 1,
   "metadata": {},
   "outputs": [
    {
     "name": "stderr",
     "output_type": "stream",
     "text": [
      "/home/alchernyavskiy/anaconda3/envs/py37deberta/lib/python3.7/site-packages/tqdm/auto.py:21: TqdmWarning: IProgress not found. Please update jupyter and ipywidgets. See https://ipywidgets.readthedocs.io/en/stable/user_install.html\n",
      "  from .autonotebook import tqdm as notebook_tqdm\n"
     ]
    }
   ],
   "source": [
    "from glue_xlmroberta.dataset_construction import construct_semeval_dataset"
   ]
  },
  {
   "cell_type": "code",
   "execution_count": 2,
   "metadata": {
    "scrolled": true
   },
   "outputs": [
    {
     "name": "stdout",
     "output_type": "stream",
     "text": [
      "23\n"
     ]
    },
    {
     "name": "stderr",
     "output_type": "stream",
     "text": [
      "100%|███████████████████████████████████████| 143/143 [00:00<00:00, 1448.36it/s]\n",
      "100%|█████████████████████████████████████████| 143/143 [00:03<00:00, 41.57it/s]\n",
      "100%|█████████████████████████████████████| 1962/1962 [00:00<00:00, 5075.26it/s]\n"
     ]
    },
    {
     "name": "stdout",
     "output_type": "stream",
     "text": [
      "23\n"
     ]
    },
    {
     "name": "stderr",
     "output_type": "stream",
     "text": [
      "100%|███████████████████████████████████████| 143/143 [00:00<00:00, 2048.08it/s]\n",
      "100%|█████████████████████████████████████████| 143/143 [00:03<00:00, 41.37it/s]\n",
      "100%|█████████████████████████████████████| 1962/1962 [00:00<00:00, 5076.11it/s]\n"
     ]
    },
    {
     "name": "stdout",
     "output_type": "stream",
     "text": [
      "23\n"
     ]
    },
    {
     "name": "stderr",
     "output_type": "stream",
     "text": [
      "100%|███████████████████████████████████████| 143/143 [00:00<00:00, 2095.76it/s]\n",
      "100%|█████████████████████████████████████████| 143/143 [00:03<00:00, 41.20it/s]\n",
      "100%|█████████████████████████████████████| 1962/1962 [00:00<00:00, 5871.68it/s]\n"
     ]
    },
    {
     "name": "stdout",
     "output_type": "stream",
     "text": [
      "23\n"
     ]
    },
    {
     "name": "stderr",
     "output_type": "stream",
     "text": [
      "100%|███████████████████████████████████████| 143/143 [00:00<00:00, 1731.88it/s]\n",
      "100%|█████████████████████████████████████████| 143/143 [00:03<00:00, 41.92it/s]\n",
      "100%|█████████████████████████████████████| 1962/1962 [00:00<00:00, 5998.27it/s]\n"
     ]
    },
    {
     "name": "stdout",
     "output_type": "stream",
     "text": [
      "23\n"
     ]
    },
    {
     "name": "stderr",
     "output_type": "stream",
     "text": [
      "100%|█████████████████████████████████████████| 48/48 [00:00<00:00, 2115.64it/s]\n",
      "100%|███████████████████████████████████████████| 48/48 [00:00<00:00, 54.91it/s]\n",
      "100%|███████████████████████████████████████| 515/515 [00:00<00:00, 7153.32it/s]\n"
     ]
    },
    {
     "name": "stdout",
     "output_type": "stream",
     "text": [
      "23\n"
     ]
    },
    {
     "name": "stderr",
     "output_type": "stream",
     "text": [
      "100%|█████████████████████████████████████████| 48/48 [00:00<00:00, 2104.76it/s]\n",
      "100%|███████████████████████████████████████████| 48/48 [00:00<00:00, 55.58it/s]\n",
      "100%|███████████████████████████████████████| 515/515 [00:00<00:00, 7821.23it/s]\n"
     ]
    },
    {
     "name": "stdout",
     "output_type": "stream",
     "text": [
      "23\n"
     ]
    },
    {
     "name": "stderr",
     "output_type": "stream",
     "text": [
      "100%|█████████████████████████████████████████| 48/48 [00:00<00:00, 2089.08it/s]\n",
      "100%|███████████████████████████████████████████| 48/48 [00:00<00:00, 55.72it/s]\n",
      "100%|███████████████████████████████████████| 515/515 [00:00<00:00, 9407.83it/s]\n"
     ]
    },
    {
     "name": "stdout",
     "output_type": "stream",
     "text": [
      "23\n"
     ]
    },
    {
     "name": "stderr",
     "output_type": "stream",
     "text": [
      "100%|█████████████████████████████████████████| 48/48 [00:00<00:00, 2108.18it/s]\n",
      "100%|███████████████████████████████████████████| 48/48 [00:00<00:00, 55.39it/s]\n",
      "100%|██████████████████████████████████████| 515/515 [00:00<00:00, 10392.58it/s]\n"
     ]
    },
    {
     "name": "stdout",
     "output_type": "stream",
     "text": [
      "23\n"
     ]
    },
    {
     "name": "stderr",
     "output_type": "stream",
     "text": [
      "100%|█████████████████████████████████████████| 72/72 [00:00<00:00, 2256.81it/s]\n",
      "100%|██████████████████████████████████████████| 72/72 [00:00<00:00, 168.93it/s]\n",
      "100%|███████████████████████████████████████| 601/601 [00:00<00:00, 8427.06it/s]\n"
     ]
    },
    {
     "name": "stdout",
     "output_type": "stream",
     "text": [
      "23\n"
     ]
    },
    {
     "name": "stderr",
     "output_type": "stream",
     "text": [
      "100%|█████████████████████████████████████████| 72/72 [00:00<00:00, 2251.04it/s]\n",
      "100%|██████████████████████████████████████████| 72/72 [00:00<00:00, 169.61it/s]\n",
      "100%|███████████████████████████████████████| 601/601 [00:00<00:00, 9392.92it/s]\n"
     ]
    },
    {
     "name": "stdout",
     "output_type": "stream",
     "text": [
      "23\n"
     ]
    },
    {
     "name": "stderr",
     "output_type": "stream",
     "text": [
      "100%|█████████████████████████████████████████| 72/72 [00:00<00:00, 2250.97it/s]\n",
      "100%|██████████████████████████████████████████| 72/72 [00:00<00:00, 171.70it/s]\n",
      "100%|██████████████████████████████████████| 601/601 [00:00<00:00, 11008.77it/s]\n"
     ]
    },
    {
     "name": "stdout",
     "output_type": "stream",
     "text": [
      "23\n"
     ]
    },
    {
     "name": "stderr",
     "output_type": "stream",
     "text": [
      "100%|█████████████████████████████████████████| 72/72 [00:00<00:00, 2232.22it/s]\n",
      "100%|██████████████████████████████████████████| 72/72 [00:00<00:00, 172.71it/s]\n",
      "100%|██████████████████████████████████████| 601/601 [00:00<00:00, 12366.99it/s]\n"
     ]
    }
   ],
   "source": [
    "disco_depth = 2\n",
    "options = [\n",
    "    [True, True, True],\n",
    "    [True, True, False],\n",
    "    [True, False, False],\n",
    "    [False, False, False]\n",
    "]\n",
    "\n",
    "for part in ['train', 'dev', 'test']: #'train', 'dev', 'test'\n",
    "    for (use_nucsat, use_rels, use_paths) in options:\n",
    "        construct_semeval_dataset(\n",
    "            part = part,\n",
    "            disco_depth=disco_depth,\n",
    "            use_rels=use_rels,\n",
    "            use_nucsat=use_nucsat,\n",
    "            use_paths=use_paths)"
   ]
  },
  {
   "cell_type": "code",
   "execution_count": null,
   "metadata": {},
   "outputs": [],
   "source": []
  },
  {
   "cell_type": "code",
   "execution_count": null,
   "metadata": {},
   "outputs": [],
   "source": [
    "#add no-feats version to train the base model\n",
    "import json\n",
    "\n",
    "for part in ['train', 'dev', 'test']:\n",
    "    fn = f'datasets/deberta_propaganda_classif/{part}_custom_feats=2_lvl2--use_rels=False--use_nucsat=True--use_paths=False_multi_ru.json'\n",
    "\n",
    "    with open(fn, 'r') as outfile:\n",
    "        data = json.load(outfile)\n",
    "\n",
    "    for el in data:\n",
    "        del el['feature']\n",
    "\n",
    "    with open(fn.replace('.json', '_nofeat.json'), 'w') as outfile:\n",
    "        json.dump(data, outfile)"
   ]
  },
  {
   "cell_type": "code",
   "execution_count": null,
   "metadata": {},
   "outputs": [],
   "source": []
  },
  {
   "cell_type": "code",
   "execution_count": null,
   "metadata": {},
   "outputs": [],
   "source": []
  },
  {
   "cell_type": "markdown",
   "metadata": {},
   "source": [
    "## 2. Save weights for loss"
   ]
  },
  {
   "cell_type": "code",
   "execution_count": 5,
   "metadata": {},
   "outputs": [],
   "source": [
    "import json\n",
    "import pickle"
   ]
  },
  {
   "cell_type": "code",
   "execution_count": 6,
   "metadata": {},
   "outputs": [],
   "source": [
    "with open(f'datasets/deberta_propaganda_classif/train_custom_feats=38_lvl2--use_rels=True--use_nucsat=True--use_paths=False_multi_ru.json', 'r') as outfile:\n",
    "    data_train = json.load(outfile)"
   ]
  },
  {
   "cell_type": "code",
   "execution_count": 7,
   "metadata": {
    "scrolled": true
   },
   "outputs": [
    {
     "data": {
      "text/plain": [
       "{'text': 'article241.txt',\n",
       " 'sentence1': '«Теперь всех, включая этого несчастного [президента Египта Хосни] Мубарака, который просто лизал ноги Западу — всех их обвинили, что они авторитарные лидеры и их надо раздавить. А на их место посадили остервенелых бандитов. Остервенелых! Людоедов. И сказали: это — демократы!», — оценил происходящее политолог.',\n",
       " 'label': [0.0,\n",
       "  0.0,\n",
       "  0.0,\n",
       "  0.0,\n",
       "  0.0,\n",
       "  0.0,\n",
       "  0.0,\n",
       "  0.0,\n",
       "  0.0,\n",
       "  0.0,\n",
       "  0.0,\n",
       "  0.0,\n",
       "  0.0,\n",
       "  0.0,\n",
       "  1.0,\n",
       "  1.0,\n",
       "  0.0,\n",
       "  1.0,\n",
       "  0.0,\n",
       "  1.0,\n",
       "  1.0,\n",
       "  0.0,\n",
       "  0.0],\n",
       " 'i': 12,\n",
       " 'span': [1444, 1755],\n",
       " 'feature': [0.5,\n",
       "  0.0,\n",
       "  0.0,\n",
       "  0.0,\n",
       "  0.0,\n",
       "  0.0,\n",
       "  0.0,\n",
       "  0.0,\n",
       "  0.25,\n",
       "  0.0,\n",
       "  0.0,\n",
       "  0.0,\n",
       "  0.25,\n",
       "  0.0,\n",
       "  0.0,\n",
       "  0.0,\n",
       "  0.0,\n",
       "  0.0,\n",
       "  0.5,\n",
       "  0.625,\n",
       "  0.125,\n",
       "  0.0,\n",
       "  0.0,\n",
       "  0.0,\n",
       "  0.0,\n",
       "  0.0,\n",
       "  0.0,\n",
       "  0.125,\n",
       "  0.0,\n",
       "  0.0,\n",
       "  0.25,\n",
       "  0.0,\n",
       "  0.0,\n",
       "  0.0,\n",
       "  0.0,\n",
       "  0.0,\n",
       "  0.125,\n",
       "  0.375]}"
      ]
     },
     "execution_count": 7,
     "metadata": {},
     "output_type": "execute_result"
    }
   ],
   "source": [
    "data_train[6]"
   ]
  },
  {
   "cell_type": "code",
   "execution_count": 8,
   "metadata": {},
   "outputs": [],
   "source": [
    "weights =  []\n",
    "for i in range(len(data_train[0]['label'])):\n",
    "    label_vals = [] \n",
    "    for item in data_train:\n",
    "        label_vals.append(item['label'][i])\n",
    "    num_pos = max(sum(label_vals), 1)\n",
    "    num_neg = len(label_vals) - num_pos\n",
    "    weights.append(min(70, num_neg / num_pos))"
   ]
  },
  {
   "cell_type": "code",
   "execution_count": 9,
   "metadata": {},
   "outputs": [
    {
     "data": {
      "text/plain": [
       "[70,\n",
       " 35.333333333333336,\n",
       " 18.04854368932039,\n",
       " 70,\n",
       " 69.07142857142857,\n",
       " 39.875,\n",
       " 49.30769230769231,\n",
       " 27.02857142857143,\n",
       " 21.295454545454547,\n",
       " 2.8546168958742633,\n",
       " 13.977099236641221,\n",
       " 69.07142857142857,\n",
       " 45.714285714285715,\n",
       " 70,\n",
       " 2.060842433697348,\n",
       " 6.75494071146245,\n",
       " 70,\n",
       " 5.475247524752476,\n",
       " 70,\n",
       " 27.434782608695652,\n",
       " 26.25,\n",
       " 70,\n",
       " 70]"
      ]
     },
     "execution_count": 9,
     "metadata": {},
     "output_type": "execute_result"
    }
   ],
   "source": [
    "weights"
   ]
  },
  {
   "cell_type": "code",
   "execution_count": 10,
   "metadata": {},
   "outputs": [],
   "source": [
    "with open('glue_xlmroberta/pos_weights.pkl', 'wb') as f:\n",
    "    pickle.dump(weights, f)"
   ]
  },
  {
   "cell_type": "code",
   "execution_count": null,
   "metadata": {},
   "outputs": [],
   "source": []
  },
  {
   "cell_type": "code",
   "execution_count": 11,
   "metadata": {},
   "outputs": [],
   "source": [
    "with open('glue_xlmroberta/pos_weights.pkl', 'rb') as f:\n",
    "    weights = pickle.load(f)"
   ]
  },
  {
   "cell_type": "code",
   "execution_count": 12,
   "metadata": {},
   "outputs": [],
   "source": [
    "labels_list = ['Appeal_to_Authority',\n",
    " 'Appeal_to_Fear-Prejudice',\n",
    " 'Appeal_to_Hypocrisy',\n",
    " 'Appeal_to_Popularity',\n",
    " 'Appeal_to_Time',\n",
    " 'Appeal_to_Values',\n",
    " 'Causal_Oversimplification',\n",
    " 'Consequential_Oversimplification',\n",
    " 'Conversation_Killer',\n",
    " 'Doubt',\n",
    " 'Exaggeration-Minimisation',\n",
    " 'False_Dilemma-No_Choice',\n",
    " 'Flag_Waving',\n",
    " 'Guilt_by_Association',\n",
    " 'Loaded_Language',\n",
    " 'Name_Calling-Labeling',\n",
    " 'Obfuscation-Vagueness-Confusion',\n",
    " 'Questioning_the_Reputation',\n",
    " 'Red_Herring',\n",
    " 'Repetition',\n",
    " 'Slogans',\n",
    " 'Straw_Man',\n",
    " 'Whataboutism']"
   ]
  },
  {
   "cell_type": "code",
   "execution_count": 13,
   "metadata": {},
   "outputs": [
    {
     "data": {
      "text/plain": [
       "[('Appeal_to_Authority', 70),\n",
       " ('Appeal_to_Fear-Prejudice', 35.333333333333336),\n",
       " ('Appeal_to_Hypocrisy', 18.04854368932039),\n",
       " ('Appeal_to_Popularity', 70),\n",
       " ('Appeal_to_Time', 69.07142857142857),\n",
       " ('Appeal_to_Values', 39.875),\n",
       " ('Causal_Oversimplification', 49.30769230769231),\n",
       " ('Consequential_Oversimplification', 27.02857142857143),\n",
       " ('Conversation_Killer', 21.295454545454547),\n",
       " ('Doubt', 2.8546168958742633),\n",
       " ('Exaggeration-Minimisation', 13.977099236641221),\n",
       " ('False_Dilemma-No_Choice', 69.07142857142857),\n",
       " ('Flag_Waving', 45.714285714285715),\n",
       " ('Guilt_by_Association', 70),\n",
       " ('Loaded_Language', 2.060842433697348),\n",
       " ('Name_Calling-Labeling', 6.75494071146245),\n",
       " ('Obfuscation-Vagueness-Confusion', 70),\n",
       " ('Questioning_the_Reputation', 5.475247524752476),\n",
       " ('Red_Herring', 70),\n",
       " ('Repetition', 27.434782608695652),\n",
       " ('Slogans', 26.25),\n",
       " ('Straw_Man', 70),\n",
       " ('Whataboutism', 70)]"
      ]
     },
     "execution_count": 13,
     "metadata": {},
     "output_type": "execute_result"
    }
   ],
   "source": [
    "list(zip(labels_list, weights))"
   ]
  },
  {
   "cell_type": "code",
   "execution_count": null,
   "metadata": {},
   "outputs": [],
   "source": []
  },
  {
   "cell_type": "markdown",
   "metadata": {},
   "source": [
    "## 3. Train model"
   ]
  },
  {
   "cell_type": "code",
   "execution_count": 1,
   "metadata": {},
   "outputs": [],
   "source": [
    "from glue_xlmroberta.train_loop import run_train"
   ]
  },
  {
   "cell_type": "code",
   "execution_count": 2,
   "metadata": {},
   "outputs": [],
   "source": [
    "options = [\n",
    "    [True, True, True],\n",
    "     [True, True, False],\n",
    "     [True, False, False],\n",
    "    [False, False, False]\n",
    "]\n",
    "\n",
    "for (use_nucsat, use_rels, use_paths) in options:\n",
    "    run_train(level=2,\n",
    "              lr=2e-5,\n",
    "              bs=8,\n",
    "              gac=2,\n",
    "              n_epochs=45,\n",
    "              use_rels=use_rels,\n",
    "              use_nucsat=use_nucsat,\n",
    "              use_paths=use_paths,\n",
    "              save_eval_metric='micro_f1',\n",
    "              device='cuda:0',\n",
    "              suffix='_ru')"
   ]
  },
  {
   "cell_type": "code",
   "execution_count": null,
   "metadata": {},
   "outputs": [],
   "source": []
  },
  {
   "cell_type": "code",
   "execution_count": null,
   "metadata": {},
   "outputs": [],
   "source": []
  }
 ],
 "metadata": {
  "kernelspec": {
   "display_name": "py37deberta",
   "language": "python",
   "name": "py37deberta"
  },
  "language_info": {
   "codemirror_mode": {
    "name": "ipython",
    "version": 3
   },
   "file_extension": ".py",
   "mimetype": "text/x-python",
   "name": "python",
   "nbconvert_exporter": "python",
   "pygments_lexer": "ipython3",
   "version": "3.7.13"
  }
 },
 "nbformat": 4,
 "nbformat_minor": 5
}
